{
 "cells": [
  {
   "cell_type": "markdown",
   "metadata": {},
   "source": [
    "# Análisis de Datos con Pandas - Visualizando Datos\n",
    "\n",
    "* **Autor**: Jose Rodriguez (@Cyb3rPandah)\n",
    "* **Proyecto**: Infosec Jupyter Book\n",
    "* **Organización Pública**: [Open Threat Research](https://github.com/OTRF)\n",
    "* **Licencia**: [Creative Commons Attribution-ShareAlike 4.0 International](https://creativecommons.org/licenses/by-sa/4.0/)\n",
    "* **Referencia**: https://github.com/OTRF/mordor/tree/master/datasets/large/apt29/day1"
   ]
  },
  {
   "cell_type": "markdown",
   "metadata": {},
   "source": [
    "## Representando el Archivo JSON como Dataframe usando Pandas"
   ]
  },
  {
   "cell_type": "markdown",
   "metadata": {},
   "source": [
    "La representación del archivo JSON como un Dataframe de Pandas puede involucrar el uso de comandos como **wget**, **unzip**. Esto fue explicado con más detalle en el notebook que lleva por título **Representando el Archivo JSON como Dataframe usando Pandas**, y además se encuentra en la misma carpeta del presente notebook. Para mantener la estructura del presente notebok en un formato simple, los JSON files requeridos para este workshop ya han sido desargados y descomprimidos. Estos archivos se encuentran en la carpeta **sets_datos**."
   ]
  },
  {
   "cell_type": "markdown",
   "metadata": {},
   "source": [
    "! wget https://github.com/OTRF/mordor/raw/master/datasets/large/apt29/day1/apt29_evals_day1_manual.zip  -O sets_datos/apt29_evals_day1_manual.zip"
   ]
  },
  {
   "cell_type": "markdown",
   "metadata": {},
   "source": [
    "! unzip -o sets_datos/apt29_evals_day1_manual.zip -d sets_datos/"
   ]
  },
  {
   "cell_type": "code",
   "execution_count": null,
   "metadata": {},
   "outputs": [],
   "source": [
    "apt29_json = 'sets_datos/apt29_evals_day1_manual_2020-05-01225525.json'"
   ]
  },
  {
   "cell_type": "markdown",
   "metadata": {},
   "source": [
    "### a) Importando la librería Pandas"
   ]
  },
  {
   "cell_type": "code",
   "execution_count": null,
   "metadata": {},
   "outputs": [],
   "source": [
    "import pandas as pd"
   ]
  },
  {
   "cell_type": "markdown",
   "metadata": {},
   "source": [
    "### b) Leyendo Archivo JSON"
   ]
  },
  {
   "cell_type": "markdown",
   "metadata": {},
   "source": [
    "Usaremos el método **pandas.read_json**.\n",
    "\n",
    "Referencia: https://pandas.pydata.org/pandas-docs/stable/reference/api/pandas.read_json.html"
   ]
  },
  {
   "cell_type": "code",
   "execution_count": null,
   "metadata": {
    "scrolled": false
   },
   "outputs": [],
   "source": [
    "# reading the json file using read_json method and considering the parameter lines = True\n",
    "# setting the chunksize parameter = 1000\n",
    "df = pd.read_json(apt29_json, lines = True, chunksize = 1000)\n",
    "# creating an empty list to store data for every chunk\n",
    "apt29_chunks = []\n",
    "# adding data of every chunk to an empty list using a for loop and the append method\n",
    "for chunk in df:\n",
    "    apt29_chunks.append(chunk)\n",
    "# putting everything together into a Pandas dataframe using the concat method\n",
    "# considering the parameter sort = False\n",
    "df = pd.concat(apt29_chunks, sort = False)\n",
    "\n",
    "df.head()"
   ]
  },
  {
   "cell_type": "markdown",
   "metadata": {},
   "source": [
    "### c) Conociendo las columnas o atributos del Dataframe"
   ]
  },
  {
   "cell_type": "markdown",
   "metadata": {},
   "source": [
    "Usaremos el método **pandas.DataFrame.info**.\n",
    "\n",
    "Referencia: https://pandas.pydata.org/pandas-docs/stable/reference/api/pandas.DataFrame.info.html"
   ]
  },
  {
   "cell_type": "code",
   "execution_count": null,
   "metadata": {},
   "outputs": [],
   "source": [
    "df.info(verbose = True)"
   ]
  },
  {
   "cell_type": "markdown",
   "metadata": {},
   "source": [
    "## Representando la Variabilidad de la Longitud del CommandLine"
   ]
  },
  {
   "cell_type": "markdown",
   "metadata": {},
   "source": [
    "### a) Calculando la Longitud del Command Line"
   ]
  },
  {
   "cell_type": "markdown",
   "metadata": {},
   "source": [
    "Usaremos el método **assign** para agregar una columna nueva a nuestro dataframe. Esta nueva columna mostrará el calculo de la longitud del command line que el processo utilizó.\n",
    "\n",
    "Referencia: https://pandas.pydata.org/pandas-docs/stable/reference/api/pandas.DataFrame.assign.html"
   ]
  },
  {
   "cell_type": "code",
   "execution_count": null,
   "metadata": {
    "scrolled": true
   },
   "outputs": [],
   "source": [
    "df = (\n",
    "df[['User']]\n",
    "    \n",
    "[(df['EventID'] == 1) & (df['Channel'].str.contains('sysmon',case = False, na = False, regex = False))]\n",
    "    \n",
    ".assign(Command_Length = df['CommandLine'].str.len())\n",
    "    \n",
    "[df['Command_Length'] <300]\n",
    "\n",
    ")\n",
    "df"
   ]
  },
  {
   "cell_type": "markdown",
   "metadata": {},
   "source": [
    "### b) Creando un Diagrama BoxPlot para representar la variabilidad por Usuario"
   ]
  },
  {
   "cell_type": "code",
   "execution_count": null,
   "metadata": {},
   "outputs": [],
   "source": [
    "import seaborn as sns\n",
    "sns.set(style=\"whitegrid\")\n",
    "sns.set(rc={'figure.figsize':(15,7)})"
   ]
  },
  {
   "cell_type": "code",
   "execution_count": null,
   "metadata": {},
   "outputs": [],
   "source": [
    "# Especificamos la fuente de datos\n",
    "source = df\n",
    "\n",
    "# Creamos el objeto Seaborn\n",
    "boxPlotChart = sns.boxplot(x = 'User', y = 'Command_Length', data = source, orient = 'v',width = 0.3)\n",
    "\n",
    "# Formateamos el Títutl ode nuestro gráfico\n",
    "boxPlotChart.set_title(\"Variabilidad de la Longitud de Command Lines por Usuario\", fontsize = 25)\n",
    "\n",
    "# Formateamos el eje horizontal\n",
    "boxPlotChart.set_xticklabels(boxPlotChart.get_xticklabels(), rotation=45);"
   ]
  },
  {
   "cell_type": "markdown",
   "metadata": {},
   "source": [
    "## Muchas gracias!! Espero que este notebooks haya sido útil para empezar a revisar algunas técnicas para transformar datos :D\n",
    "\n",
    "## Aún hay más por aprender :D"
   ]
  }
 ],
 "metadata": {
  "kernelspec": {
   "display_name": "PySpark_Python3",
   "language": "python",
   "name": "pyspark3"
  },
  "language_info": {
   "codemirror_mode": {
    "name": "ipython",
    "version": 3
   },
   "file_extension": ".py",
   "mimetype": "text/x-python",
   "name": "python",
   "nbconvert_exporter": "python",
   "pygments_lexer": "ipython3",
   "version": "3.7.6"
  }
 },
 "nbformat": 4,
 "nbformat_minor": 4
}